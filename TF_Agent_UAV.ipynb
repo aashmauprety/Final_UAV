{
  "nbformat": 4,
  "nbformat_minor": 0,
  "metadata": {
    "colab": {
      "name": "TF-Agent-UAV.ipynb",
      "provenance": [],
      "collapsed_sections": [],
      "authorship_tag": "ABX9TyOIzDOS+2vLJgeghHUANTzE",
      "include_colab_link": true
    },
    "kernelspec": {
      "name": "python3",
      "display_name": "Python 3"
    }
  },
  "cells": [
    {
      "cell_type": "markdown",
      "metadata": {
        "id": "view-in-github",
        "colab_type": "text"
      },
      "source": [
        "<a href=\"https://colab.research.google.com/github/aashmauprety/Final_UAV/blob/master/TF_Agent_UAV.ipynb\" target=\"_parent\"><img src=\"https://colab.research.google.com/assets/colab-badge.svg\" alt=\"Open In Colab\"/></a>"
      ]
    },
    {
      "cell_type": "code",
      "metadata": {
        "id": "y8QpAcDCa6F1",
        "colab_type": "code",
        "colab": {
          "base_uri": "https://localhost:8080/",
          "height": 522
        },
        "outputId": "5eb96876-ee15-45d0-ac48-3b6cc22111b1"
      },
      "source": [
        "!pip install tf-agents"
      ],
      "execution_count": 6,
      "outputs": [
        {
          "output_type": "stream",
          "text": [
            "Collecting tf-agents\n",
            "\u001b[?25l  Downloading https://files.pythonhosted.org/packages/ef/b0/88c9aab39050cfb544ec73ee48b8d0e67b4b16ed5470c82235255b119952/tf_agents-0.5.0-py3-none-any.whl (933kB)\n",
            "\u001b[K     |████████████████████████████████| 942kB 2.8MB/s \n",
            "\u001b[?25hRequirement already satisfied: numpy>=1.13.3 in /usr/local/lib/python3.6/dist-packages (from tf-agents) (1.18.4)\n",
            "Requirement already satisfied: absl-py>=0.6.1 in /usr/local/lib/python3.6/dist-packages (from tf-agents) (0.9.0)\n",
            "Requirement already satisfied: tensorflow-probability>=0.9.0 in /usr/local/lib/python3.6/dist-packages (from tf-agents) (0.10.0)\n",
            "Collecting protobuf>=3.11.3\n",
            "\u001b[?25l  Downloading https://files.pythonhosted.org/packages/28/05/9867ef8eafd12265267bee138fa2c46ebf34a276ea4cbe184cba4c606e8b/protobuf-3.12.2-cp36-cp36m-manylinux1_x86_64.whl (1.3MB)\n",
            "\u001b[K     |████████████████████████████████| 1.3MB 16.3MB/s \n",
            "\u001b[?25hRequirement already satisfied: six>=1.10.0 in /usr/local/lib/python3.6/dist-packages (from tf-agents) (1.12.0)\n",
            "Collecting gin-config==0.1.3\n",
            "\u001b[?25l  Downloading https://files.pythonhosted.org/packages/8c/be/c984b1c8a7ba1c385b32bf39c7a225cd9f713d49705898309d01b60fd0e7/gin_config-0.1.3-py3-none-any.whl (43kB)\n",
            "\u001b[K     |████████████████████████████████| 51kB 6.4MB/s \n",
            "\u001b[?25hRequirement already satisfied: decorator in /usr/local/lib/python3.6/dist-packages (from tensorflow-probability>=0.9.0->tf-agents) (4.4.2)\n",
            "Requirement already satisfied: gast>=0.3.2 in /usr/local/lib/python3.6/dist-packages (from tensorflow-probability>=0.9.0->tf-agents) (0.3.3)\n",
            "Requirement already satisfied: cloudpickle>=1.2.2 in /usr/local/lib/python3.6/dist-packages (from tensorflow-probability>=0.9.0->tf-agents) (1.3.0)\n",
            "Requirement already satisfied: setuptools in /usr/local/lib/python3.6/dist-packages (from protobuf>=3.11.3->tf-agents) (47.1.1)\n",
            "Installing collected packages: protobuf, gin-config, tf-agents\n",
            "  Found existing installation: protobuf 3.10.0\n",
            "    Uninstalling protobuf-3.10.0:\n",
            "      Successfully uninstalled protobuf-3.10.0\n",
            "  Found existing installation: gin-config 0.3.0\n",
            "    Uninstalling gin-config-0.3.0:\n",
            "      Successfully uninstalled gin-config-0.3.0\n",
            "Successfully installed gin-config-0.1.3 protobuf-3.12.2 tf-agents-0.5.0\n"
          ],
          "name": "stdout"
        },
        {
          "output_type": "display_data",
          "data": {
            "application/vnd.colab-display-data+json": {
              "pip_warning": {
                "packages": [
                  "google"
                ]
              }
            }
          },
          "metadata": {
            "tags": []
          }
        }
      ]
    },
    {
      "cell_type": "code",
      "metadata": {
        "id": "nSnlvGgulo5S",
        "colab_type": "code",
        "colab": {}
      },
      "source": [
        "from enum import Enum\n",
        "import numpy as np\n",
        "\n",
        "import tensorflow as tf\n",
        "import pandas as pd\n",
        "import matplotlib.pyplot as plt\n",
        "\n",
        "from tf_agents.environments import py_environment\n",
        "from tf_agents.environments import tf_environment\n",
        "from tf_agents.environments import tf_py_environment\n",
        "from tf_agents.environments import utils\n",
        "from tf_agents.specs import array_spec\n",
        "from tf_agents.trajectories import time_step as timeStep"
      ],
      "execution_count": 0,
      "outputs": []
    },
    {
      "cell_type": "code",
      "metadata": {
        "id": "mvf5S-s2hbo9",
        "colab_type": "code",
        "colab": {}
      },
      "source": [
        "class ActionResult(Enum):\n",
        "  COLLISION = 1\n",
        "  NO_MOVE = 2\n",
        "  SUCCESS = 3\n",
        "  IS_INVALID = 4\n",
        "  VALID_MOVE = 5"
      ],
      "execution_count": 0,
      "outputs": []
    },
    {
      "cell_type": "code",
      "metadata": {
        "id": "f9Y-dk0KmKxt",
        "colab_type": "code",
        "colab": {}
      },
      "source": [
        "#MY CUSTOM ENVIRONMENT \n",
        "class UAV():\n",
        "  #initialize\n",
        "  def __init__(self):\n",
        "    self._state = np.zeros(36, dtype= np.int32)\n",
        "    self._state[5] =1 #initial position of UAV1\n",
        "    self._state[9] = 2 #initial popsition of UAV2\n",
        "    self._state[15] = 3 #position of station which is stationary\n",
        "    self._game_ended = False\n",
        "\n",
        "\n",
        "  #Reset the environement to its initial state.\n",
        "  def reset(self):\n",
        "    self._state = np.zeros(36, dtype =  np.int32)\n",
        "    self._state[5] = 1\n",
        "    self._state[9] = 2\n",
        "    self._state[15] = 3\n",
        "    self._game_ended = False\n",
        "\n",
        "  def _is_success(self, position1, position2):\n",
        "    return bool(position1 == 15) ^  bool(position2 == 15)\n",
        "\n",
        "  def move_uav(self, current_state1, current_state2, next_state1, next_state2):\n",
        "\n",
        "    #check if success occured \n",
        "    if self._is_success(next_state1, next_state2):\n",
        "      self._state[current_state1] = 0\n",
        "      self._state[next_state1] = 1\n",
        "      self._state[current_state2] = 0\n",
        "      self._state[next_state2] = 2\n",
        "      self._game_ended = True\n",
        "      return ActionResult.SUCCESS\n",
        "\n",
        "\n",
        "    # If move results in out of boundary\n",
        "    if next_state1 < 0 or next_state2 < 0 or next_state1 > (len(self._state) - 1) or next_state2 > (len(self._state) - 1):\n",
        "      self._game_ended = True\n",
        "      return ActionResult.IS_INVALID\n",
        "\n",
        "    #collision\n",
        "    if next_state1 == 15 and next_state2 == 15:\n",
        "      self._game_ended = True\n",
        "      return ActionResult.COLLISION\n",
        "\n",
        "    if next_state1 == current_state1 and next_state2 == current_state2: \n",
        "      self._state[current_state1] = 1\n",
        "      self._state[current_state2] = 2\n",
        "      self._game_ended = False\n",
        "      return ActionResult.NO_MOVE\n",
        "\n",
        "    self._state[current_state1] = 0\n",
        "    self._state[current_state2] = 0\n",
        "    self._state[next_state1] = 1\n",
        "    self._state[next_state2] = 2   \n",
        "    return ActionResult.VALID_MOVE \n",
        "\n",
        "  def game_ended(self):\n",
        "    return self._game_ended\n",
        "\n",
        "  def game_state(self):\n",
        "    return self._state     \n"
      ],
      "execution_count": 0,
      "outputs": []
    },
    {
      "cell_type": "code",
      "metadata": {
        "id": "L6ZVdesIWBXK",
        "colab_type": "code",
        "colab": {}
      },
      "source": [
        "class UAVEnvironment(py_environment.PyEnvironment):\n",
        "  def __init__(self, game):\n",
        "    self._action_spec = array_spec.BoundedArraySpec(\n",
        "            shape=(), dtype=np.int32, minimum=0, maximum=3, name='action')\n",
        "    self._observation_spec = array_spec.BoundedArraySpec(\n",
        "        shape=(36,), dtype=np.int32, minimum=0, maximum=3, name='observation')\n",
        "\n",
        "    # 0=>Left, 1=>Right, 2=>Down, 3=>Up\n",
        "    self._action_values = {0:-1,1:1,2:-6,3:6}\n",
        "    self._game = game\n",
        "\n",
        "  def _reset(self):\n",
        "        self._game.reset()\n",
        "        return timeStep.restart(self._game.game_state())\n",
        "\n",
        "  def action_spec(self):\n",
        "   return self._action_spec\n",
        "\n",
        "  def observation_spec(self):\n",
        "    return self._observation_spec\n",
        "\n",
        "  def _step(self, action):    \n",
        "\n",
        "      if self._game.game_ended():\n",
        "          return self.reset()\n",
        "\n",
        "      action = action.item()\n",
        "\n",
        "      next_UAV1_position_direction = self._action_values.get(action)\n",
        "      next_UAV2_position_direction = self._action_values.get(action)\n",
        "      current_UAV1_position = np.where(self._game.game_state() == 1)[0].item()\n",
        "      current_UAV2_position = np.where(self._game.game_state() == 1) [0].item()\n",
        "      new_UAV1_position = current_UAV1_position + next_UAV1_position_direction\n",
        "      new_UAV2_position = current_UAV2_position + next_UAV2_position_direction\n",
        "\n",
        "      response = self._game.move_uav(current_UAV1_position, current_UAV2_position, new_UAV1_position, new_UAV2_position)  \n",
        "\n",
        "      if response == ActionResult.SUCCESS:\n",
        "            return timeStep.termination(self._game.game_state(), reward = 10, discount = 0.7)\n",
        "\n",
        "      elif response == ActionResult.IS_INVALID:\n",
        "          return timeStep.termination(self._game.game_state(), -0.3)\n",
        "\n",
        "      elif response == ActionResult.COLLISION:\n",
        "          return timeStep.termination(self._game.game_state(), -1)\n",
        "\n",
        "      elif response == ActionResult.NO_MOVE:\n",
        "          return timeStep.transition(self._game.game_state(), reward=1, discount=1.0)\n",
        "\n",
        "      return timeStep.transition(self._game.game_state(), reward=-0.3, discount=1.0)"
      ],
      "execution_count": 0,
      "outputs": []
    },
    {
      "cell_type": "code",
      "metadata": {
        "id": "WA23NE1Pf-m3",
        "colab_type": "code",
        "colab": {
          "base_uri": "https://localhost:8080/",
          "height": 320
        },
        "outputId": "9ddd3ba4-84b0-4d09-e0cc-3d64ba22d232"
      },
      "source": [
        "UAVEnvironment = UAVEnvironment(UAV())\n",
        "utils.validate_py_environment(UAVEnvironment, episodes=5)"
      ],
      "execution_count": 46,
      "outputs": [
        {
          "output_type": "error",
          "ename": "ValueError",
          "evalue": "ignored",
          "traceback": [
            "\u001b[0;31m---------------------------------------------------------------------------\u001b[0m",
            "\u001b[0;31mValueError\u001b[0m                                Traceback (most recent call last)",
            "\u001b[0;32m<ipython-input-46-0341b6b05fe3>\u001b[0m in \u001b[0;36m<module>\u001b[0;34m()\u001b[0m\n\u001b[1;32m      1\u001b[0m \u001b[0mUAVEnvironment\u001b[0m \u001b[0;34m=\u001b[0m \u001b[0mUAVEnvironment\u001b[0m\u001b[0;34m(\u001b[0m\u001b[0mUAV\u001b[0m\u001b[0;34m(\u001b[0m\u001b[0;34m)\u001b[0m\u001b[0;34m)\u001b[0m\u001b[0;34m\u001b[0m\u001b[0;34m\u001b[0m\u001b[0m\n\u001b[0;32m----> 2\u001b[0;31m \u001b[0mutils\u001b[0m\u001b[0;34m.\u001b[0m\u001b[0mvalidate_py_environment\u001b[0m\u001b[0;34m(\u001b[0m\u001b[0mUAVEnvironment\u001b[0m\u001b[0;34m,\u001b[0m \u001b[0mepisodes\u001b[0m\u001b[0;34m=\u001b[0m\u001b[0;36m5\u001b[0m\u001b[0;34m)\u001b[0m\u001b[0;34m\u001b[0m\u001b[0;34m\u001b[0m\u001b[0m\n\u001b[0m",
            "\u001b[0;32m/usr/local/lib/python3.6/dist-packages/tf_agents/environments/utils.py\u001b[0m in \u001b[0;36mvalidate_py_environment\u001b[0;34m(environment, episodes)\u001b[0m\n\u001b[1;32m     61\u001b[0m \u001b[0;34m\u001b[0m\u001b[0m\n\u001b[1;32m     62\u001b[0m     \u001b[0maction\u001b[0m \u001b[0;34m=\u001b[0m \u001b[0mrandom_policy\u001b[0m\u001b[0;34m.\u001b[0m\u001b[0maction\u001b[0m\u001b[0;34m(\u001b[0m\u001b[0mtime_step\u001b[0m\u001b[0;34m)\u001b[0m\u001b[0;34m.\u001b[0m\u001b[0maction\u001b[0m\u001b[0;34m\u001b[0m\u001b[0;34m\u001b[0m\u001b[0m\n\u001b[0;32m---> 63\u001b[0;31m     \u001b[0mtime_step\u001b[0m \u001b[0;34m=\u001b[0m \u001b[0menvironment\u001b[0m\u001b[0;34m.\u001b[0m\u001b[0mstep\u001b[0m\u001b[0;34m(\u001b[0m\u001b[0maction\u001b[0m\u001b[0;34m)\u001b[0m\u001b[0;34m\u001b[0m\u001b[0;34m\u001b[0m\u001b[0m\n\u001b[0m\u001b[1;32m     64\u001b[0m \u001b[0;34m\u001b[0m\u001b[0m\n\u001b[1;32m     65\u001b[0m     \u001b[0;32mif\u001b[0m \u001b[0mtime_step\u001b[0m\u001b[0;34m.\u001b[0m\u001b[0mis_last\u001b[0m\u001b[0;34m(\u001b[0m\u001b[0;34m)\u001b[0m\u001b[0;34m:\u001b[0m\u001b[0;34m\u001b[0m\u001b[0;34m\u001b[0m\u001b[0m\n",
            "\u001b[0;32m/usr/local/lib/python3.6/dist-packages/tf_agents/environments/py_environment.py\u001b[0m in \u001b[0;36mstep\u001b[0;34m(self, action)\u001b[0m\n\u001b[1;32m    172\u001b[0m       \u001b[0;32mreturn\u001b[0m \u001b[0mself\u001b[0m\u001b[0;34m.\u001b[0m\u001b[0mreset\u001b[0m\u001b[0;34m(\u001b[0m\u001b[0;34m)\u001b[0m\u001b[0;34m\u001b[0m\u001b[0;34m\u001b[0m\u001b[0m\n\u001b[1;32m    173\u001b[0m \u001b[0;34m\u001b[0m\u001b[0m\n\u001b[0;32m--> 174\u001b[0;31m     \u001b[0mself\u001b[0m\u001b[0;34m.\u001b[0m\u001b[0m_current_time_step\u001b[0m \u001b[0;34m=\u001b[0m \u001b[0mself\u001b[0m\u001b[0;34m.\u001b[0m\u001b[0m_step\u001b[0m\u001b[0;34m(\u001b[0m\u001b[0maction\u001b[0m\u001b[0;34m)\u001b[0m\u001b[0;34m\u001b[0m\u001b[0;34m\u001b[0m\u001b[0m\n\u001b[0m\u001b[1;32m    175\u001b[0m     \u001b[0;32mreturn\u001b[0m \u001b[0mself\u001b[0m\u001b[0;34m.\u001b[0m\u001b[0m_current_time_step\u001b[0m\u001b[0;34m\u001b[0m\u001b[0;34m\u001b[0m\u001b[0m\n\u001b[1;32m    176\u001b[0m \u001b[0;34m\u001b[0m\u001b[0m\n",
            "\u001b[0;32m<ipython-input-45-6cbb56c14020>\u001b[0m in \u001b[0;36m_step\u001b[0;34m(self, action)\u001b[0m\n\u001b[1;32m     29\u001b[0m       \u001b[0mnext_UAV1_position_direction\u001b[0m \u001b[0;34m=\u001b[0m \u001b[0mself\u001b[0m\u001b[0;34m.\u001b[0m\u001b[0m_action_values\u001b[0m\u001b[0;34m.\u001b[0m\u001b[0mget\u001b[0m\u001b[0;34m(\u001b[0m\u001b[0maction\u001b[0m\u001b[0;34m)\u001b[0m\u001b[0;34m\u001b[0m\u001b[0;34m\u001b[0m\u001b[0m\n\u001b[1;32m     30\u001b[0m       \u001b[0mnext_UAV2_position_direction\u001b[0m \u001b[0;34m=\u001b[0m \u001b[0mself\u001b[0m\u001b[0;34m.\u001b[0m\u001b[0m_action_values\u001b[0m\u001b[0;34m.\u001b[0m\u001b[0mget\u001b[0m\u001b[0;34m(\u001b[0m\u001b[0maction\u001b[0m\u001b[0;34m)\u001b[0m\u001b[0;34m\u001b[0m\u001b[0;34m\u001b[0m\u001b[0m\n\u001b[0;32m---> 31\u001b[0;31m       \u001b[0mcurrent_UAV1_position\u001b[0m \u001b[0;34m=\u001b[0m \u001b[0mnp\u001b[0m\u001b[0;34m.\u001b[0m\u001b[0mwhere\u001b[0m\u001b[0;34m(\u001b[0m\u001b[0mself\u001b[0m\u001b[0;34m.\u001b[0m\u001b[0m_game\u001b[0m\u001b[0;34m.\u001b[0m\u001b[0mgame_state\u001b[0m\u001b[0;34m(\u001b[0m\u001b[0;34m)\u001b[0m \u001b[0;34m==\u001b[0m \u001b[0;36m1\u001b[0m\u001b[0;34m)\u001b[0m\u001b[0;34m[\u001b[0m\u001b[0;36m0\u001b[0m\u001b[0;34m]\u001b[0m\u001b[0;34m.\u001b[0m\u001b[0mitem\u001b[0m\u001b[0;34m(\u001b[0m\u001b[0;34m)\u001b[0m\u001b[0;34m\u001b[0m\u001b[0;34m\u001b[0m\u001b[0m\n\u001b[0m\u001b[1;32m     32\u001b[0m       \u001b[0mcurrent_UAV2_position\u001b[0m \u001b[0;34m=\u001b[0m \u001b[0mnp\u001b[0m\u001b[0;34m.\u001b[0m\u001b[0mwhere\u001b[0m\u001b[0;34m(\u001b[0m\u001b[0mself\u001b[0m\u001b[0;34m.\u001b[0m\u001b[0m_game\u001b[0m\u001b[0;34m.\u001b[0m\u001b[0mgame_state\u001b[0m\u001b[0;34m(\u001b[0m\u001b[0;34m)\u001b[0m \u001b[0;34m==\u001b[0m \u001b[0;36m1\u001b[0m\u001b[0;34m)\u001b[0m \u001b[0;34m[\u001b[0m\u001b[0;36m0\u001b[0m\u001b[0;34m]\u001b[0m\u001b[0;34m.\u001b[0m\u001b[0mitem\u001b[0m\u001b[0;34m(\u001b[0m\u001b[0;34m)\u001b[0m\u001b[0;34m\u001b[0m\u001b[0;34m\u001b[0m\u001b[0m\n\u001b[1;32m     33\u001b[0m       \u001b[0mnew_UAV1_position\u001b[0m \u001b[0;34m=\u001b[0m \u001b[0mcurrent_UAV1_position\u001b[0m \u001b[0;34m+\u001b[0m \u001b[0mnext_UAV1_position_direction\u001b[0m\u001b[0;34m\u001b[0m\u001b[0;34m\u001b[0m\u001b[0m\n",
            "\u001b[0;31mValueError\u001b[0m: can only convert an array of size 1 to a Python scalar"
          ]
        }
      ]
    }
  ]
}