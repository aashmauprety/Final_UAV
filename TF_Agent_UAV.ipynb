{
  "nbformat": 4,
  "nbformat_minor": 0,
  "metadata": {
    "colab": {
      "name": "TF-Agent-UAV.ipynb",
      "provenance": [],
      "collapsed_sections": [],
      "authorship_tag": "ABX9TyPOuI6O8T20gkVhquJzw1VF",
      "include_colab_link": true
    },
    "kernelspec": {
      "name": "python3",
      "display_name": "Python 3"
    }
  },
  "cells": [
    {
      "cell_type": "markdown",
      "metadata": {
        "id": "view-in-github",
        "colab_type": "text"
      },
      "source": [
        "<a href=\"https://colab.research.google.com/github/aashmauprety/Final_UAV/blob/master/TF_Agent_UAV.ipynb\" target=\"_parent\"><img src=\"https://colab.research.google.com/assets/colab-badge.svg\" alt=\"Open In Colab\"/></a>"
      ]
    },
    {
      "cell_type": "code",
      "metadata": {
        "id": "kfojg-E7g6qc",
        "colab_type": "code",
        "colab": {
          "base_uri": "https://localhost:8080/",
          "height": 34
        },
        "outputId": "39a33738-0bb7-4586-aede-6f6b6ce36079"
      },
      "source": [
        "cd TF-Agent/"
      ],
      "execution_count": 1,
      "outputs": [
        {
          "output_type": "stream",
          "text": [
            "/content/TF-Agent\n"
          ],
          "name": "stdout"
        }
      ]
    },
    {
      "cell_type": "code",
      "metadata": {
        "id": "nSnlvGgulo5S",
        "colab_type": "code",
        "colab": {}
      },
      "source": [
        "from enum import Enum\n",
        "import numpy as np"
      ],
      "execution_count": 0,
      "outputs": []
    },
    {
      "cell_type": "code",
      "metadata": {
        "id": "mvf5S-s2hbo9",
        "colab_type": "code",
        "colab": {}
      },
      "source": [
        "class ActionResult(Enum):\n",
        "  COLLISION = 1\n",
        "  NO_MOVE = 2\n",
        "  SUCCESS = 3"
      ],
      "execution_count": 0,
      "outputs": []
    },
    {
      "cell_type": "code",
      "metadata": {
        "id": "f9Y-dk0KmKxt",
        "colab_type": "code",
        "colab": {}
      },
      "source": [
        "#MY CUSTOM ENVIRONMENT \n",
        "class UAV():\n",
        "  #initialize\n",
        "  def __init__(self):\n",
        "    self._state = np.zeros(36, dtype= int8)\n",
        "    self._state[5] =1 #initial position of UAV1\n",
        "    self._state[9] = 2 #initial popsition of UAV2\n",
        "    self._state[15] = 3 #position of station which is stationary\n",
        "    self._game_ended = False\n",
        "\n",
        "\n",
        "  #Reset the environement to its initial state.\n",
        "  def reset(self):\n",
        "    self._state = np.zeros(36, dtype = int32)\n",
        "    self._state[5] = 1\n",
        "    self._state[9] = 2\n",
        "    self._state[15] = 3\n",
        "    self._game_ended = False\n",
        "\n",
        "  def __is_success(self, position1, position2):\n",
        "    return position1 == 15 or position2 == 15\n",
        "\n",
        "  def move_uav(self, current_state1, current_state2, next_state1, next_state2):\n",
        "\n",
        "    #check if success occured \n",
        "    if self._is_success(next_state1, next_state2):\n",
        "      self._state[current_state1] = 0\n",
        "      self._state[next_state1] = 1\n",
        "      self._state[current_state2] = 0\n",
        "      self._state[next_state2] = 2\n",
        "      self._game_ended = True\n",
        "\n",
        "      return ActionResult.SUCCESS\n",
        "\n",
        "    if   \n",
        "\n",
        "\n",
        "\n",
        "\n",
        "\n",
        "\n",
        "      \n"
      ],
      "execution_count": 0,
      "outputs": []
    }
  ]
}