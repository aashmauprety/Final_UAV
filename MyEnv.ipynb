{
  "nbformat": 4,
  "nbformat_minor": 0,
  "metadata": {
    "colab": {
      "name": "MyEnv.ipynb",
      "provenance": [],
      "authorship_tag": "ABX9TyP+AIALdgsQYXxnGZ64tP+W",
      "include_colab_link": true
    },
    "kernelspec": {
      "name": "python3",
      "display_name": "Python 3"
    }
  },
  "cells": [
    {
      "cell_type": "markdown",
      "metadata": {
        "id": "view-in-github",
        "colab_type": "text"
      },
      "source": [
        "<a href=\"https://colab.research.google.com/github/aashmauprety/Final_UAV/blob/master/MyEnv.ipynb\" target=\"_parent\"><img src=\"https://colab.research.google.com/assets/colab-badge.svg\" alt=\"Open In Colab\"/></a>"
      ]
    },
    {
      "cell_type": "code",
      "metadata": {
        "id": "3rqm4IwPVMHH",
        "colab_type": "code",
        "colab": {}
      },
      "source": [
        "import numpy as np\n",
        "from PIL import Image\n",
        "from google.colab.patches import cv2_imshow\n",
        "import cv2\n",
        "import matplotlib.pyplot as plt\n",
        "import pickle\n",
        "from matplotlib import style\n",
        "import time\n",
        "import math\n",
        "\n",
        "style.use(\"ggplot\")\n"
      ],
      "execution_count": 0,
      "outputs": []
    },
    {
      "cell_type": "code",
      "metadata": {
        "id": "gwYqreWGo0VA",
        "colab_type": "code",
        "colab": {}
      },
      "source": [
        "SIZE = 10\n",
        "HM_EPISODES = 25000\n",
        "COLLISION_PENALTY = -1\n",
        "SUCCESS_REWARD = 1\n",
        "MOVE_PENALTY = 0\n",
        "epsilon = 0.9\n",
        "EPS_DECAY = 0.9998  # Every episode will be epsilon*EPS_DECAY\n",
        "SHOW_EVERY = 3000  # how often to play through env visually.\n",
        "\n",
        "start_q_table = None # None or Filename\n",
        "\n",
        "DISTANCE = 5\n",
        "LEARNING_RATE = 0.1\n",
        "DISCOUNT = 0.95\n",
        "PLAYER_1 = 1\n",
        "PLAYER_2 = 2\n",
        "STATION_1 = 3\n",
        "d = {1: (255, 175, 0),\n",
        "     2: (0, 255, 0),\n",
        "     3: (0, 0, 255)}\n"
      ],
      "execution_count": 0,
      "outputs": []
    },
    {
      "cell_type": "code",
      "metadata": {
        "id": "2WchqMmko5Sn",
        "colab_type": "code",
        "colab": {}
      },
      "source": [
        "class Drone:\n",
        "    def __init__(self):\n",
        "        self.x = np.random.randint(0, SIZE)\n",
        "        self.y = np.random.randint(0, SIZE)\n",
        "\n",
        "    def __str__(self):\n",
        "        return f\"{self.x}, {self.y}\"\n",
        "\n",
        "    def __sub__(self, other):\n",
        "        d = math.sqrt((self.x-other.x)**2 + (self.y-other.y)**2)\n",
        "        return d\n",
        "    \n",
        "    def action(self, choice):\n",
        "        '''\n",
        "        Gives us 4 total movement options. (0,1,2,3)\n",
        "        '''\n",
        "        if choice == 0:\n",
        "            self.move(x=1, y=1)\n",
        "        elif choice == 1:\n",
        "            self.move(x=0, y=0)\n",
        "        # elif choice == 2:\n",
        "        #     self.move(x=-1, y=1)\n",
        "        # elif choice == 3:\n",
        "        #     self.move(x=1, y=-1)\n",
        "\n",
        "    def move(self, x=False, y=False):\n",
        "\n",
        "        # If no value for x, move randomly\n",
        "        if not x:\n",
        "            self.x += np.random.randint(-1, 2)\n",
        "        else:\n",
        "            self.x += x\n",
        "\n",
        "        # If no value for y, move randomly\n",
        "        if not y:\n",
        "            self.y += np.random.randint(-1, 2)\n",
        "        else:\n",
        "            self.y += y\n",
        "\n",
        "\n",
        "        # If we are out of bounds, fix!\n",
        "        if self.x < 0:\n",
        "            self.x = 0\n",
        "        elif self.x > SIZE-1:\n",
        "            self.x = SIZE-1\n",
        "        if self.y < 0:\n",
        "            self.y = 0\n",
        "        elif self.y > SIZE-1:\n",
        "            self.y = SIZE-1\n",
        "      "
      ],
      "execution_count": 0,
      "outputs": []
    },
    {
      "cell_type": "code",
      "metadata": {
        "id": "malAskXzpFxK",
        "colab_type": "code",
        "outputId": "b0b619ed-f22a-4530-ac72-cb64c54dc884",
        "colab": {
          "base_uri": "https://localhost:8080/",
          "height": 106
        }
      },
      "source": [
        "player1 = Drone()\n",
        "player2 = Drone()\n",
        "station = Drone()\n",
        "print(player1)\n",
        "print(player2)\n",
        "print(player1 - player2)\n",
        "player1.move(1,2)\n",
        "print(player1)\n",
        "player1.action(1)\n",
        "print(player1)"
      ],
      "execution_count": 5,
      "outputs": [
        {
          "output_type": "stream",
          "text": [
            "5, 1\n",
            "4, 1\n",
            "(1, 0)\n",
            "6, 3\n",
            "7, 4\n"
          ],
          "name": "stdout"
        }
      ]
    },
    {
      "cell_type": "code",
      "metadata": {
        "id": "QGm3H7CxuffV",
        "colab_type": "code",
        "colab": {}
      },
      "source": [
        "if start_q_table is None:\n",
        "    # initialize the q-table#\n",
        "    q_table = {}\n",
        "    for i in range(-SIZE+1, SIZE):\n",
        "        for ii in range(-SIZE+1, SIZE):\n",
        "            for iii in range(-SIZE+1, SIZE):\n",
        "                    for iiii in range(-SIZE+1, SIZE):\n",
        "                        q_table[((i, ii), (iii, iiii))] = [np.random.uniform(-5, 0) for i in range(2)]\n",
        "else:\n",
        "    with open(start_q_table, \"rb\") as f:\n",
        "        q_table = pickle.load(f)                       "
      ],
      "execution_count": 0,
      "outputs": []
    },
    {
      "cell_type": "code",
      "metadata": {
        "id": "jYw2DpvKyLBM",
        "colab_type": "code",
        "outputId": "e0f30b19-f87f-432b-e2ff-4e44ca557bb0",
        "colab": {
          "base_uri": "https://localhost:8080/",
          "height": 35
        }
      },
      "source": [
        "print(q_table[((-9, -2), (3, 9))])\n"
      ],
      "execution_count": 7,
      "outputs": [
        {
          "output_type": "stream",
          "text": [
            "[-4.822495113277838, -4.153231358562693]\n"
          ],
          "name": "stdout"
        }
      ]
    },
    {
      "cell_type": "code",
      "metadata": {
        "id": "rHYXA8EStHoU",
        "colab_type": "code",
        "colab": {}
      },
      "source": [
        "episode_rewards = []\n",
        "\n",
        "for episode in range(HM_EPISODES):\n",
        "    player1 = Drone()\n",
        "    player2 = Drone()\n",
        "    station = Drone()\n",
        "    if episode % SHOW_EVERY == 0:\n",
        "        print(f\"on #{episode}, epsilon is {epsilon}\")\n",
        "        print(f\"{SHOW_EVERY} ep mean: {np.mean(episode_rewards[-SHOW_EVERY:])}\")\n",
        "        show = True\n",
        "    else:\n",
        "        show = False\n",
        "\n",
        "    episode_reward = 0\n",
        "    for i in range(200):\n",
        "      obs = (player1-player2, player1-station)\n",
        "      #print(obs)\n",
        "      if np.random.random() > epsilon:\n",
        "          # GET THE ACTION\n",
        "          action = np.argmax(q_table[obs])\n",
        "      else:\n",
        "          action = np.random.randint(0, 2)\n",
        "      # Take the action!\n",
        "      player1.action(action) \n",
        "       #### MAYBE ###\n",
        "      player2.move()\n",
        "        #food.move()\n",
        "        ##############\n",
        "\n",
        "      if player1.x == station.x and player1.y == station.y and player2.x == station.x and player2.y == station.y:\n",
        "          reward = -COLLISION_PENALTY\n",
        "      elif player1.x == station.x and player1.y == station.y or player2.x == station.x and player2.y == station.y:\n",
        "          reward = SUCCESS_REWARD\n",
        "      else:\n",
        "          reward = MOVE_PENALTY\n",
        "      ## NOW WE KNOW THE REWARD, LET'S CALC YO\n",
        "      # first we need to obs immediately after the move.\n",
        "      new_obs = (player1-player2, player1-station)\n",
        "      max_future_q = np.max(q_table[new_obs])\n",
        "      current_q = q_table[obs][action]\n",
        "\n",
        "      if reward == SUCCESS_REWARD:\n",
        "          new_q = SUCCESS_REWARD\n",
        "      else:\n",
        "          new_q = (1 - LEARNING_RATE) * current_q + LEARNING_RATE * (reward + DISCOUNT * max_future_q)\n",
        "      q_table[obs][action] = new_q\n",
        "\n",
        "      if show:\n",
        "          env = np.zeros((SIZE, SIZE, 3), dtype=np.uint8)  # starts an rbg of our size\n",
        "          env[player1.x][player1.y] = d[PLAYER_1]  # sets the food location tile to green color\n",
        "          env[player2.x][player2.y] = d[PLAYER_2]  # sets the player tile to blue\n",
        "          env[station.x][station.y] = d[STATION_1]  # sets the enemy location to red\n",
        "          img = Image.fromarray(env, 'RGB')  # reading to rgb. Apparently. Even tho color definitions are bgr. ???\n",
        "          img = img.resize((300, 300))  # resizing so we can see our agent in all its glory.\n",
        "          cv2_imshow( np.array(img))  # show it!\n",
        "          if reward == SUCCESS_REWARD or reward == -COLLISION_PENALTY:  # crummy code to hang at the end if we reach abrupt end for good reasons or not.\n",
        "              if cv2.waitKey(500) & 0xFF == ord('q'):\n",
        "                  break\n",
        "          else:\n",
        "              if cv2.waitKey(1) & 0xFF == ord('q'):\n",
        "                  break\n",
        "\n",
        "      episode_reward += reward\n",
        "      if reward == SUCCESS_REWARD or reward == -COLLISION_PENALTY:\n",
        "          break\n",
        "\n",
        "    #print(episode_reward)\n",
        "    episode_rewards.append(episode_reward)\n",
        "    epsilon *= EPS_DECAY\n",
        "\n",
        "moving_avg = np.convolve(episode_rewards, np.ones((SHOW_EVERY,))/SHOW_EVERY, mode='valid')\n",
        "\n",
        "plt.plot([i for i in range(len(moving_avg))], moving_avg)\n",
        "plt.ylabel(f\"Reward {SHOW_EVERY}ma\")\n",
        "plt.xlabel(\"episode #\")\n",
        "plt.show()\n",
        "\n",
        "with open(f\"qtable-{int(time.time())}.pickle\", \"wb\") as f:\n",
        "    pickle.dump(q_table, f)      "
      ],
      "execution_count": 0,
      "outputs": []
    },
    {
      "cell_type": "code",
      "metadata": {
        "id": "bVycJ5TBvL8p",
        "colab_type": "code",
        "colab": {}
      },
      "source": [
        ""
      ],
      "execution_count": 0,
      "outputs": []
    }
  ]
}