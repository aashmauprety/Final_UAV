{
  "nbformat": 4,
  "nbformat_minor": 0,
  "metadata": {
    "colab": {
      "name": "MyEnv.ipynb",
      "provenance": [],
      "authorship_tag": "ABX9TyNrn0vtQ5P3T8rCXIWqsjnI",
      "include_colab_link": true
    },
    "kernelspec": {
      "name": "python3",
      "display_name": "Python 3"
    }
  },
  "cells": [
    {
      "cell_type": "markdown",
      "metadata": {
        "id": "view-in-github",
        "colab_type": "text"
      },
      "source": [
        "<a href=\"https://colab.research.google.com/github/aashmauprety/Final_UAV/blob/master/MyEnv.ipynb\" target=\"_parent\"><img src=\"https://colab.research.google.com/assets/colab-badge.svg\" alt=\"Open In Colab\"/></a>"
      ]
    },
    {
      "cell_type": "code",
      "metadata": {
        "id": "3rqm4IwPVMHH",
        "colab_type": "code",
        "colab": {}
      },
      "source": [
        "import numpy as np\n",
        "from PIL import Image\n",
        "#from google.colab.patches import cv2_imshow\n",
        "import cv2\n",
        "import matplotlib.pyplot as plt\n",
        "import pickle\n",
        "from matplotlib import style\n",
        "import time\n",
        "\n",
        "style.use(\"ggplot\")\n"
      ],
      "execution_count": 0,
      "outputs": []
    },
    {
      "cell_type": "code",
      "metadata": {
        "id": "gwYqreWGo0VA",
        "colab_type": "code",
        "colab": {}
      },
      "source": [
        "SIZE = 10\n",
        "HM_EPISODES = 25000\n",
        "COLLISION_PENALTY = -1\n",
        "SUCCESS_REWARD = 1\n",
        "MOVE_PENALTY = 0\n",
        "epsilon = 0.9\n",
        "EPS_DECAY = 0.9998  # Every episode will be epsilon*EPS_DECAY\n",
        "SHOW_EVERY = 3000  # how often to play through env visually.\n",
        "\n",
        "start_q_table = None # None or Filename\n",
        "\n",
        "LEARNING_RATE = 0.1\n",
        "DISCOUNT = 0.95\n",
        "PLAYER_1 = 1\n",
        "PLAYER_2 = 2\n",
        "STATION_1 = 3\n",
        "d = {1: (255, 175, 0),\n",
        "     2: (0, 255, 0),\n",
        "     3: (0, 0, 255)}\n"
      ],
      "execution_count": 0,
      "outputs": []
    },
    {
      "cell_type": "code",
      "metadata": {
        "id": "2WchqMmko5Sn",
        "colab_type": "code",
        "colab": {}
      },
      "source": [
        "class Drone:\n",
        "    def __init__(self):\n",
        "        self.x = np.random.randint(0, SIZE)\n",
        "        self.y = np.random.randint(0, SIZE)\n",
        "\n",
        "    def __str__(self):\n",
        "        return f\"{self.x}, {self.y}\"\n",
        "\n",
        "    def __sub__(self, other):\n",
        "        return (self.x-other.x, self.y-other.y)\n",
        "    \n",
        "    def action(self, choice):\n",
        "        '''\n",
        "        Gives us 4 total movement options. (0,1,2,3)\n",
        "        '''\n",
        "        if choice == 0:\n",
        "            self.move(x=1, y=1)\n",
        "        #elif choice == 1:\n",
        "            #self.move(x=0, y=0)\n",
        "        # elif choice == 2:\n",
        "        #     self.move(x=-1, y=1)\n",
        "        # elif choice == 3:\n",
        "        #     self.move(x=1, y=-1)\n",
        "\n",
        "    def move(self, x=False, y=False):\n",
        "\n",
        "        # If no value for x, move randomly\n",
        "        if not x:\n",
        "            self.x += np.random.randint(-1, 2)\n",
        "        else:\n",
        "            self.x += x\n",
        "\n",
        "        # If no value for y, move randomly\n",
        "        if not y:\n",
        "            self.y += np.random.randint(-1, 2)\n",
        "        else:\n",
        "            self.y += y\n",
        "\n",
        "\n",
        "        # If we are out of bounds, fix!\n",
        "        if self.x < 0:\n",
        "            self.x = 0\n",
        "        elif self.x > SIZE-1:\n",
        "            self.x = SIZE-1\n",
        "        if self.y < 0:\n",
        "            self.y = 0\n",
        "        elif self.y > SIZE-1:\n",
        "            self.y = SIZE-1\n",
        "      "
      ],
      "execution_count": 0,
      "outputs": []
    },
    {
      "cell_type": "code",
      "metadata": {
        "id": "malAskXzpFxK",
        "colab_type": "code",
        "outputId": "6f5946b8-0074-4eb8-be96-a80284d0971f",
        "colab": {
          "base_uri": "https://localhost:8080/",
          "height": 100
        }
      },
      "source": [
        "player1 = Drone()\n",
        "player2 = Drone()\n",
        "station = Drone()\n",
        "print(player1)\n",
        "print(player2)\n",
        "print(player1 - player2)\n",
        "player1.move(1,2)\n",
        "print(player1)\n",
        "player1.action(1)\n",
        "print(player1)"
      ],
      "execution_count": 0,
      "outputs": [
        {
          "output_type": "stream",
          "text": [
            "8, 3\n",
            "4, 3\n",
            "(4, 0)\n",
            "9, 5\n",
            "9, 5\n"
          ],
          "name": "stdout"
        }
      ]
    },
    {
      "cell_type": "code",
      "metadata": {
        "id": "QGm3H7CxuffV",
        "colab_type": "code",
        "colab": {}
      },
      "source": [
        "if start_q_table is None:\n",
        "    # initialize the q-table#\n",
        "    q_table = {}\n",
        "    for i in range(-SIZE+1, SIZE):\n",
        "        for ii in range(-SIZE+1, SIZE):\n",
        "            for iii in range(-SIZE+1, SIZE):\n",
        "                    for iiii in range(-SIZE+1, SIZE):\n",
        "                        q_table[((i, ii), (iii, iiii))] = [np.random.uniform(-5, 0) for i in range(4)]\n",
        "else:\n",
        "    with open(start_q_table, \"rb\") as f:\n",
        "        q_table = pickle.load(f)                       "
      ],
      "execution_count": 0,
      "outputs": []
    },
    {
      "cell_type": "code",
      "metadata": {
        "id": "jYw2DpvKyLBM",
        "colab_type": "code",
        "outputId": "1759508b-0538-4d49-95ed-ff76651d4730",
        "colab": {
          "base_uri": "https://localhost:8080/",
          "height": 168
        }
      },
      "source": [
        "print(q_table[((-9, -2), (3, 9))])\n"
      ],
      "execution_count": 2,
      "outputs": [
        {
          "output_type": "error",
          "ename": "NameError",
          "evalue": "ignored",
          "traceback": [
            "\u001b[0;31m---------------------------------------------------------------------------\u001b[0m",
            "\u001b[0;31mNameError\u001b[0m                                 Traceback (most recent call last)",
            "\u001b[0;32m<ipython-input-2-262a3e764d75>\u001b[0m in \u001b[0;36m<module>\u001b[0;34m()\u001b[0m\n\u001b[0;32m----> 1\u001b[0;31m \u001b[0mprint\u001b[0m\u001b[0;34m(\u001b[0m\u001b[0mq_table\u001b[0m\u001b[0;34m[\u001b[0m\u001b[0;34m(\u001b[0m\u001b[0;34m(\u001b[0m\u001b[0;34m-\u001b[0m\u001b[0;36m9\u001b[0m\u001b[0;34m,\u001b[0m \u001b[0;34m-\u001b[0m\u001b[0;36m2\u001b[0m\u001b[0;34m)\u001b[0m\u001b[0;34m,\u001b[0m \u001b[0;34m(\u001b[0m\u001b[0;36m3\u001b[0m\u001b[0;34m,\u001b[0m \u001b[0;36m9\u001b[0m\u001b[0;34m)\u001b[0m\u001b[0;34m)\u001b[0m\u001b[0;34m]\u001b[0m\u001b[0;34m)\u001b[0m\u001b[0;34m\u001b[0m\u001b[0;34m\u001b[0m\u001b[0m\n\u001b[0m",
            "\u001b[0;31mNameError\u001b[0m: name 'q_table' is not defined"
          ]
        }
      ]
    }
  ]
}