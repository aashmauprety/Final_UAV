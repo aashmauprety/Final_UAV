{
  "nbformat": 4,
  "nbformat_minor": 0,
  "metadata": {
    "colab": {
      "name": "MyEnv.ipynb",
      "provenance": [],
      "authorship_tag": "ABX9TyNWGJHhxpp9Q5/M44fIYWGQ",
      "include_colab_link": true
    },
    "kernelspec": {
      "name": "python3",
      "display_name": "Python 3"
    }
  },
  "cells": [
    {
      "cell_type": "markdown",
      "metadata": {
        "id": "view-in-github",
        "colab_type": "text"
      },
      "source": [
        "<a href=\"https://colab.research.google.com/github/aashmauprety/Final_UAV/blob/master/MyEnv.ipynb\" target=\"_parent\"><img src=\"https://colab.research.google.com/assets/colab-badge.svg\" alt=\"Open In Colab\"/></a>"
      ]
    },
    {
      "cell_type": "code",
      "metadata": {
        "id": "3rqm4IwPVMHH",
        "colab_type": "code",
        "colab": {}
      },
      "source": [
        "import numpy as np\n",
        "from PIL import Image\n",
        "from google.colab.patches import cv2_imshow\n",
        "import cv2\n",
        "import matplotlib.pyplot as plt\n",
        "import pickle\n",
        "from matplotlib import style\n",
        "import time\n",
        "\n",
        "style.use(\"ggplot\")\n"
      ],
      "execution_count": 0,
      "outputs": []
    },
    {
      "cell_type": "code",
      "metadata": {
        "id": "gwYqreWGo0VA",
        "colab_type": "code",
        "colab": {}
      },
      "source": [
        "SIZE = 10\n",
        "HM_EPISODES = 25000\n",
        "COLLISION_PENALTY = -1\n",
        "SUCCESS_REWARD = 1\n",
        "MOVE_PENALTY = 0\n",
        "epsilon = 0.9\n",
        "EPS_DECAY = 0.9998  # Every episode will be epsilon*EPS_DECAY\n",
        "SHOW_EVERY = 3000  # how often to play through env visually.\n",
        "\n",
        "start_q_table = None # None or Filename\n",
        "\n",
        "LEARNING_RATE = 0.1\n",
        "DISCOUNT = 0.95\n",
        "PLAYER_1 = 1\n",
        "PLAYER_2 = 2\n",
        "STATION_1 = 3\n",
        "d = {1: (255, 175, 0),\n",
        "     2: (0, 255, 0),\n",
        "     3: (0, 0, 255)}\n"
      ],
      "execution_count": 0,
      "outputs": []
    },
    {
      "cell_type": "code",
      "metadata": {
        "id": "2WchqMmko5Sn",
        "colab_type": "code",
        "colab": {}
      },
      "source": [
        "class Drone:\n",
        "    def __init__(self):\n",
        "        self.x = np.random.randint(0, SIZE)\n",
        "        self.y = np.random.randint(0, SIZE)\n",
        "\n",
        "    def __str__(self):\n",
        "        return f\"{self.x}, {self.y}\"\n",
        "\n",
        "    def __sub__(self, other):\n",
        "        return (self.x-other.x, self.y-other.y)\n",
        "    \n",
        "    def action(self, choice):\n",
        "        '''\n",
        "        Gives us 4 total movement options. (0,1,2,3)\n",
        "        '''\n",
        "        if choice == 0:\n",
        "            self.move(x=1, y=1)\n",
        "        elif choice == 1:\n",
        "            self.move(x=0, y=0)\n",
        "        # elif choice == 2:\n",
        "        #     self.move(x=-1, y=1)\n",
        "        # elif choice == 3:\n",
        "        #     self.move(x=1, y=-1)\n",
        "\n",
        "    def move(self, x=False, y=False):\n",
        "\n",
        "        # If no value for x, move randomly\n",
        "        if not x:\n",
        "            self.x += np.random.randint(-1, 2)\n",
        "        else:\n",
        "            self.x += x\n",
        "\n",
        "        # If no value for y, move randomly\n",
        "        if not y:\n",
        "            self.y += np.random.randint(-1, 2)\n",
        "        else:\n",
        "            self.y += y\n",
        "\n",
        "\n",
        "        # If we are out of bounds, fix!\n",
        "        if self.x < 0:\n",
        "            self.x = 0\n",
        "        elif self.x > SIZE-1:\n",
        "            self.x = SIZE-1\n",
        "        if self.y < 0:\n",
        "            self.y = 0\n",
        "        elif self.y > SIZE-1:\n",
        "            self.y = SIZE-1\n",
        "      "
      ],
      "execution_count": 0,
      "outputs": []
    },
    {
      "cell_type": "code",
      "metadata": {
        "id": "malAskXzpFxK",
        "colab_type": "code",
        "outputId": "60f5f119-b2b3-480d-93ff-1d734d28ebd5",
        "colab": {
          "base_uri": "https://localhost:8080/",
          "height": 106
        }
      },
      "source": [
        "player1 = Drone()\n",
        "player2 = Drone()\n",
        "station = Drone()\n",
        "print(player1)\n",
        "print(player2)\n",
        "print(player1 - player2)\n",
        "player1.move(1,2)\n",
        "print(player1)\n",
        "player1.action(1)\n",
        "print(player1)"
      ],
      "execution_count": 12,
      "outputs": [
        {
          "output_type": "stream",
          "text": [
            "5, 4\n",
            "6, 2\n",
            "(-1, 2)\n",
            "6, 6\n",
            "5, 7\n"
          ],
          "name": "stdout"
        }
      ]
    },
    {
      "cell_type": "code",
      "metadata": {
        "id": "QGm3H7CxuffV",
        "colab_type": "code",
        "colab": {}
      },
      "source": [
        "if start_q_table is None:\n",
        "    # initialize the q-table#\n",
        "    q_table = {}\n",
        "    for i in range(-SIZE+1, SIZE):\n",
        "        for ii in range(-SIZE+1, SIZE):\n",
        "            for iii in range(-SIZE+1, SIZE):\n",
        "                    for iiii in range(-SIZE+1, SIZE):\n",
        "                        q_table[((i, ii), (iii, iiii))] = [np.random.uniform(-5, 0) for i in range(2)]\n",
        "else:\n",
        "    with open(start_q_table, \"rb\") as f:\n",
        "        q_table = pickle.load(f)                       "
      ],
      "execution_count": 0,
      "outputs": []
    },
    {
      "cell_type": "code",
      "metadata": {
        "id": "jYw2DpvKyLBM",
        "colab_type": "code",
        "outputId": "553b37a0-b61c-4d2a-b2ca-ee0af71489b9",
        "colab": {
          "base_uri": "https://localhost:8080/",
          "height": 35
        }
      },
      "source": [
        "print(q_table[((-9, -2), (3, 9))])\n"
      ],
      "execution_count": 10,
      "outputs": [
        {
          "output_type": "stream",
          "text": [
            "[-1.8779468650912596, -1.6826995265269922]\n"
          ],
          "name": "stdout"
        }
      ]
    },
    {
      "cell_type": "code",
      "metadata": {
        "id": "rHYXA8EStHoU",
        "colab_type": "code",
        "colab": {
          "base_uri": "https://localhost:8080/",
          "height": 524
        },
        "outputId": "e35c7537-5360-4091-c9d4-144bbefc007b"
      },
      "source": [
        "episode_rewards = []\n",
        "\n",
        "for episode in range(HM_EPISODES):\n",
        "    player1 = Drone()\n",
        "    player2 = Drone()\n",
        "    station = Drone()\n",
        "    if episode % SHOW_EVERY == 0:\n",
        "        print(f\"on #{episode}, epsilon is {epsilon}\")\n",
        "        print(f\"{SHOW_EVERY} ep mean: {np.mean(episode_rewards[-SHOW_EVERY:])}\")\n",
        "        show = True\n",
        "    else:\n",
        "        show = False\n",
        "\n",
        "    episode_reward = 0\n",
        "    for i in range(200):\n",
        "      obs = (player1-player2, player1-station)\n",
        "      #print(obs)\n",
        "      if np.random.random() > epsilon:\n",
        "          # GET THE ACTION\n",
        "          action = np.argmax(q_table[obs])\n",
        "      else:\n",
        "          action = np.random.randint(0, 2)\n",
        "      # Take the action!\n",
        "      player1.action(action) \n",
        "       #### MAYBE ###\n",
        "      player2.move()\n",
        "        #food.move()\n",
        "        ##############\n",
        "\n",
        "      if player1.x == station.x and player1.y == station.y and player2.x == station.x and player2.y == station.y:\n",
        "          reward = -COLLISION_PENALTY\n",
        "      elif player1.x == station.x and player1.y == station.y or player2.x == station.x and player2.y == station.y:\n",
        "          reward = SUCCESS_REWARD\n",
        "      else:\n",
        "          reward = MOVE_PENALTY\n",
        "      ## NOW WE KNOW THE REWARD, LET'S CALC YO\n",
        "      # first we need to obs immediately after the move.\n",
        "      new_obs = (player1-player2, player1-station)\n",
        "      max_future_q = np.max(q_table[new_obs])\n",
        "      current_q = q_table[obs][action]\n",
        "\n",
        "      if reward == SUCCESS_REWARD:\n",
        "          new_q = SUCCESS_REWARD\n",
        "      else:\n",
        "          new_q = (1 - LEARNING_RATE) * current_q + LEARNING_RATE * (reward + DISCOUNT * max_future_q)\n",
        "      q_table[obs][action] = new_q\n",
        "\n",
        "      if show:\n",
        "          env = np.zeros((SIZE, SIZE, 3), dtype=np.uint8)  # starts an rbg of our size\n",
        "          env[player1.x][player1.y] = d[PLAYER_1]  # sets the food location tile to green color\n",
        "          env[player2.x][player2.y] = d[PLAYER_2]  # sets the player tile to blue\n",
        "          env[station.x][station.y] = d[STATION_1]  # sets the enemy location to red\n",
        "          img = Image.fromarray(env, 'RGB')  # reading to rgb. Apparently. Even tho color definitions are bgr. ???\n",
        "          img = img.resize((300, 300))  # resizing so we can see our agent in all its glory.\n",
        "          cv2.imshow(\"image\", np.array(img))  # show it!\n",
        "          if reward == SUCCESS_REWARD or reward == -COLLISION_PENALTY:  # crummy code to hang at the end if we reach abrupt end for good reasons or not.\n",
        "              if cv2.waitKey(500) & 0xFF == ord('q'):\n",
        "                  break\n",
        "          else:\n",
        "              if cv2.waitKey(1) & 0xFF == ord('q'):\n",
        "                  break\n",
        "\n",
        "      episode_reward += reward\n",
        "      if reward == FOOD_REWARD or reward == -ENEMY_PENALTY:\n",
        "          break\n",
        "\n",
        "    #print(episode_reward)\n",
        "    episode_rewards.append(episode_reward)\n",
        "    epsilon *= EPS_DECAY\n",
        "\n",
        "moving_avg = np.convolve(episode_rewards, np.ones((SHOW_EVERY,))/SHOW_EVERY, mode='valid')\n",
        "\n",
        "plt.plot([i for i in range(len(moving_avg))], moving_avg)\n",
        "plt.ylabel(f\"Reward {SHOW_EVERY}ma\")\n",
        "plt.xlabel(\"episode #\")\n",
        "plt.show()\n",
        "\n",
        "with open(f\"qtable-{int(time.time())}.pickle\", \"wb\") as f:\n",
        "    pickle.dump(q_table, f)      "
      ],
      "execution_count": 18,
      "outputs": [
        {
          "output_type": "stream",
          "text": [
            "on #0, epsilon is 0.9\n",
            "3000 ep mean: nan\n"
          ],
          "name": "stdout"
        },
        {
          "output_type": "stream",
          "text": [
            "/usr/local/lib/python3.6/dist-packages/numpy/core/fromnumeric.py:3335: RuntimeWarning: Mean of empty slice.\n",
            "  out=out, **kwargs)\n",
            "/usr/local/lib/python3.6/dist-packages/numpy/core/_methods.py:161: RuntimeWarning: invalid value encountered in double_scalars\n",
            "  ret = ret.dtype.type(ret / rcount)\n"
          ],
          "name": "stderr"
        },
        {
          "output_type": "error",
          "ename": "DisabledFunctionError",
          "evalue": "ignored",
          "traceback": [
            "\u001b[0;31m---------------------------------------------------------------------------\u001b[0m",
            "\u001b[0;31mDisabledFunctionError\u001b[0m                     Traceback (most recent call last)",
            "\u001b[0;32m<ipython-input-18-f30772e453b5>\u001b[0m in \u001b[0;36m<module>\u001b[0;34m()\u001b[0m\n\u001b[1;32m     53\u001b[0m           \u001b[0mimg\u001b[0m \u001b[0;34m=\u001b[0m \u001b[0mImage\u001b[0m\u001b[0;34m.\u001b[0m\u001b[0mfromarray\u001b[0m\u001b[0;34m(\u001b[0m\u001b[0menv\u001b[0m\u001b[0;34m,\u001b[0m \u001b[0;34m'RGB'\u001b[0m\u001b[0;34m)\u001b[0m  \u001b[0;31m# reading to rgb. Apparently. Even tho color definitions are bgr. ???\u001b[0m\u001b[0;34m\u001b[0m\u001b[0;34m\u001b[0m\u001b[0m\n\u001b[1;32m     54\u001b[0m           \u001b[0mimg\u001b[0m \u001b[0;34m=\u001b[0m \u001b[0mimg\u001b[0m\u001b[0;34m.\u001b[0m\u001b[0mresize\u001b[0m\u001b[0;34m(\u001b[0m\u001b[0;34m(\u001b[0m\u001b[0;36m300\u001b[0m\u001b[0;34m,\u001b[0m \u001b[0;36m300\u001b[0m\u001b[0;34m)\u001b[0m\u001b[0;34m)\u001b[0m  \u001b[0;31m# resizing so we can see our agent in all its glory.\u001b[0m\u001b[0;34m\u001b[0m\u001b[0;34m\u001b[0m\u001b[0m\n\u001b[0;32m---> 55\u001b[0;31m           \u001b[0mcv2\u001b[0m\u001b[0;34m.\u001b[0m\u001b[0mimshow\u001b[0m\u001b[0;34m(\u001b[0m\u001b[0;34m\"image\"\u001b[0m\u001b[0;34m,\u001b[0m \u001b[0mnp\u001b[0m\u001b[0;34m.\u001b[0m\u001b[0marray\u001b[0m\u001b[0;34m(\u001b[0m\u001b[0mimg\u001b[0m\u001b[0;34m)\u001b[0m\u001b[0;34m)\u001b[0m  \u001b[0;31m# show it!\u001b[0m\u001b[0;34m\u001b[0m\u001b[0;34m\u001b[0m\u001b[0m\n\u001b[0m\u001b[1;32m     56\u001b[0m           \u001b[0;32mif\u001b[0m \u001b[0mreward\u001b[0m \u001b[0;34m==\u001b[0m \u001b[0mSUCCESS_REWARD\u001b[0m \u001b[0;32mor\u001b[0m \u001b[0mreward\u001b[0m \u001b[0;34m==\u001b[0m \u001b[0;34m-\u001b[0m\u001b[0mCOLLISION_PENALTY\u001b[0m\u001b[0;34m:\u001b[0m  \u001b[0;31m# crummy code to hang at the end if we reach abrupt end for good reasons or not.\u001b[0m\u001b[0;34m\u001b[0m\u001b[0;34m\u001b[0m\u001b[0m\n\u001b[1;32m     57\u001b[0m               \u001b[0;32mif\u001b[0m \u001b[0mcv2\u001b[0m\u001b[0;34m.\u001b[0m\u001b[0mwaitKey\u001b[0m\u001b[0;34m(\u001b[0m\u001b[0;36m500\u001b[0m\u001b[0;34m)\u001b[0m \u001b[0;34m&\u001b[0m \u001b[0;36m0xFF\u001b[0m \u001b[0;34m==\u001b[0m \u001b[0mord\u001b[0m\u001b[0;34m(\u001b[0m\u001b[0;34m'q'\u001b[0m\u001b[0;34m)\u001b[0m\u001b[0;34m:\u001b[0m\u001b[0;34m\u001b[0m\u001b[0;34m\u001b[0m\u001b[0m\n",
            "\u001b[0;32m/usr/local/lib/python3.6/dist-packages/google/colab/_import_hooks/_cv2.py\u001b[0m in \u001b[0;36mwrapped\u001b[0;34m(*args, **kwargs)\u001b[0m\n\u001b[1;32m     50\u001b[0m   \u001b[0;32mdef\u001b[0m \u001b[0mwrapped\u001b[0m\u001b[0;34m(\u001b[0m\u001b[0;34m*\u001b[0m\u001b[0margs\u001b[0m\u001b[0;34m,\u001b[0m \u001b[0;34m**\u001b[0m\u001b[0mkwargs\u001b[0m\u001b[0;34m)\u001b[0m\u001b[0;34m:\u001b[0m\u001b[0;34m\u001b[0m\u001b[0;34m\u001b[0m\u001b[0m\n\u001b[1;32m     51\u001b[0m     \u001b[0;32mif\u001b[0m \u001b[0;32mnot\u001b[0m \u001b[0mos\u001b[0m\u001b[0;34m.\u001b[0m\u001b[0menviron\u001b[0m\u001b[0;34m.\u001b[0m\u001b[0mget\u001b[0m\u001b[0;34m(\u001b[0m\u001b[0menv_var\u001b[0m\u001b[0;34m,\u001b[0m \u001b[0;32mFalse\u001b[0m\u001b[0;34m)\u001b[0m\u001b[0;34m:\u001b[0m\u001b[0;34m\u001b[0m\u001b[0;34m\u001b[0m\u001b[0m\n\u001b[0;32m---> 52\u001b[0;31m       \u001b[0;32mraise\u001b[0m \u001b[0mDisabledFunctionError\u001b[0m\u001b[0;34m(\u001b[0m\u001b[0mmessage\u001b[0m\u001b[0;34m,\u001b[0m \u001b[0mname\u001b[0m \u001b[0;32mor\u001b[0m \u001b[0mfunc\u001b[0m\u001b[0;34m.\u001b[0m\u001b[0m__name__\u001b[0m\u001b[0;34m)\u001b[0m\u001b[0;34m\u001b[0m\u001b[0;34m\u001b[0m\u001b[0m\n\u001b[0m\u001b[1;32m     53\u001b[0m     \u001b[0;32mreturn\u001b[0m \u001b[0mfunc\u001b[0m\u001b[0;34m(\u001b[0m\u001b[0;34m*\u001b[0m\u001b[0margs\u001b[0m\u001b[0;34m,\u001b[0m \u001b[0;34m**\u001b[0m\u001b[0mkwargs\u001b[0m\u001b[0;34m)\u001b[0m\u001b[0;34m\u001b[0m\u001b[0;34m\u001b[0m\u001b[0m\n\u001b[1;32m     54\u001b[0m \u001b[0;34m\u001b[0m\u001b[0m\n",
            "\u001b[0;31mDisabledFunctionError\u001b[0m: cv2.imshow() is disabled in Colab, because it causes Jupyter sessions\nto crash; see https://github.com/jupyter/notebook/issues/3935.\nAs a substitution, consider using\n  from google.colab.patches import cv2_imshow\n"
          ]
        }
      ]
    },
    {
      "cell_type": "code",
      "metadata": {
        "id": "bVycJ5TBvL8p",
        "colab_type": "code",
        "colab": {}
      },
      "source": [
        ""
      ],
      "execution_count": 0,
      "outputs": []
    }
  ]
}