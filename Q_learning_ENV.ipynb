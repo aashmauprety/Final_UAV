{
  "nbformat": 4,
  "nbformat_minor": 0,
  "metadata": {
    "colab": {
      "name": "Q-learning_ENV.ipynb",
      "provenance": [],
      "authorship_tag": "ABX9TyN0vcEUXaL7yKF6KCtBQpG5",
      "include_colab_link": true
    },
    "kernelspec": {
      "name": "python3",
      "display_name": "Python 3"
    }
  },
  "cells": [
    {
      "cell_type": "markdown",
      "metadata": {
        "id": "view-in-github",
        "colab_type": "text"
      },
      "source": [
        "<a href=\"https://colab.research.google.com/github/aashmauprety/Final_UAV/blob/master/Q_learning_ENV.ipynb\" target=\"_parent\"><img src=\"https://colab.research.google.com/assets/colab-badge.svg\" alt=\"Open In Colab\"/></a>"
      ]
    },
    {
      "cell_type": "code",
      "metadata": {
        "id": "FNSBYFewGqqz",
        "colab_type": "code",
        "colab": {}
      },
      "source": [
        "import numpy as np  # for array stuff and random\n",
        "from PIL import Image  # for creating visual of our env\n",
        "import cv2  # for showing our visual live\n",
        "import matplotlib.pyplot as plt  # for graphing our mean rewards over time\n",
        "import pickle  # to save/load Q-Tables\n",
        "from matplotlib import style  # to make pretty charts because it matters.\n",
        "import time  # using this to keep track of our saved Q-Tables.\n",
        "\n",
        "style.use(\"ggplot\")  # setting our style!"
      ],
      "execution_count": 0,
      "outputs": []
    },
    {
      "cell_type": "code",
      "metadata": {
        "id": "0qc9GvejHUTj",
        "colab_type": "code",
        "colab": {}
      },
      "source": [
        "SIZE = 10"
      ],
      "execution_count": 0,
      "outputs": []
    },
    {
      "cell_type": "code",
      "metadata": {
        "id": "OWZng26-IT-k",
        "colab_type": "code",
        "colab": {}
      },
      "source": [
        "HM_EPISODES = 25000\n",
        "MOVE_PENALTY = 1\n",
        "ENEMY_PENALTY = 300\n",
        "FOOD_REWARD = 25\n",
        "epsilon = 0.9\n",
        "EPS_DECAY = 0.9998\n",
        "SHOW_EVERY = 3000\n",
        "start_q_table = None\n",
        "LEARNING_RATE = 0.1\n",
        "DISCOUNT = 0.95\n",
        "\n",
        "PLAYER_N = 1  # player key in dict\n",
        "FOOD_N = 2  # food key in dict\n",
        "ENEMY_N = 3  # enemy key in dict\n",
        "\n",
        "# the dict! Using just for colors\n",
        "d = {1: (255, 175, 0),  # blueish color\n",
        "     2: (0, 255, 0),  # green\n",
        "     3: (0, 0, 255)}  # red\n"
      ],
      "execution_count": 0,
      "outputs": []
    },
    {
      "cell_type": "code",
      "metadata": {
        "id": "woeONhq_KQDo",
        "colab_type": "code",
        "colab": {}
      },
      "source": [
        "class Blob:\n",
        "    def __init__(self):\n",
        "        self.x = np.random.randint(0, SIZE)\n",
        "        self.y = np.random.randint(0, SIZE)\n",
        "\n",
        "    def __str__(self):\n",
        "        return f\"{self.x}, {self.y}\"\n",
        "\n",
        "    def __sub__(self, other):\n",
        "        return (self.x-other.x, self.y-other.y)   \n",
        "\n",
        "    def action(self, choice):\n",
        "        '''\n",
        "        Gives us 4 total movement options. (0,1,2,3)\n",
        "        '''\n",
        "        if choice == 0:\n",
        "            self.move(x=1, y=1)\n",
        "        elif choice == 1:\n",
        "            self.move(x=-1, y=-1)\n",
        "        elif choice == 2:\n",
        "            self.move(x=-1, y=1)\n",
        "        elif choice == 3:\n",
        "            self.move(x=1, y=-1)\n",
        "\n",
        "    def move(self, x=False, y=False):\n",
        "\n",
        "        # If no value for x, move randomly\n",
        "        if not x:\n",
        "            self.x += np.random.randint(-1, 2)\n",
        "        else:\n",
        "            self.x += x\n",
        "\n",
        "        # If no value for y, move randomly\n",
        "        if not y:\n",
        "            self.y += np.random.randint(-1, 2)\n",
        "        else:\n",
        "            self.y += y\n",
        "\n",
        "\n",
        "        # If we are out of bounds, fix!\n",
        "        if self.x < 0:\n",
        "            self.x = 0\n",
        "        elif self.x > SIZE-1:\n",
        "            self.x = SIZE-1\n",
        "        if self.y < 0:\n",
        "            self.y = 0\n",
        "        elif self.y > SIZE-1:\n",
        "            self.y = SIZE-1"
      ],
      "execution_count": 0,
      "outputs": []
    },
    {
      "cell_type": "code",
      "metadata": {
        "id": "EZO0rKfmWDbC",
        "colab_type": "code",
        "colab": {
          "base_uri": "https://localhost:8080/",
          "height": 100
        },
        "outputId": "f0719415-a91a-4c0c-e499-3437a5f19e39"
      },
      "source": [
        "player = Blob()\n",
        "food = Blob()\n",
        "enemy = Blob()\n",
        "\n",
        "\n",
        "print(player)\n",
        "print(food)\n",
        "print(player-food)\n",
        "player.move()\n",
        "print(player-food)\n",
        "player.action(2)\n",
        "print(player-food)\n"
      ],
      "execution_count": 7,
      "outputs": [
        {
          "output_type": "stream",
          "text": [
            "9, 3\n",
            "4, 1\n",
            "(5, 2)\n",
            "(4, 2)\n",
            "(3, 3)\n"
          ],
          "name": "stdout"
        }
      ]
    },
    {
      "cell_type": "code",
      "metadata": {
        "id": "xK31VScxWN7H",
        "colab_type": "code",
        "colab": {}
      },
      "source": [
        "if start_q_table is None:\n",
        "    # initialize the q-table#\n",
        "    q_table = {}\n",
        "    for i in range(-SIZE+1, SIZE):\n",
        "        for ii in range(-SIZE+1, SIZE):\n",
        "            for iii in range(-SIZE+1, SIZE):\n",
        "                    for iiii in range(-SIZE+1, SIZE):\n",
        "                        q_table[((i, ii), (iii, iiii))] = [np.random.uniform(-5, 0) for i in range(4)]\n",
        "else:\n",
        "    with open(start_q_table, \"rb\") as f:\n",
        "        q_table = pickle.load(f)                       "
      ],
      "execution_count": 0,
      "outputs": []
    },
    {
      "cell_type": "code",
      "metadata": {
        "id": "s5Yg_xhIjyMT",
        "colab_type": "code",
        "colab": {
          "base_uri": "https://localhost:8080/",
          "height": 33
        },
        "outputId": "a64ff748-b9bb-4437-db48-cd05992e5137"
      },
      "source": [
        "print(q_table[((-9, -2), (3, 9))])\n"
      ],
      "execution_count": 10,
      "outputs": [
        {
          "output_type": "stream",
          "text": [
            "[-3.1863527727832612, -4.72801701487411, -3.4559445621626383, -1.3550887923139787]\n"
          ],
          "name": "stdout"
        }
      ]
    },
    {
      "cell_type": "code",
      "metadata": {
        "id": "ms93sp_iua33",
        "colab_type": "code",
        "colab": {}
      },
      "source": [
        "episode_rewards = []\n",
        "\n",
        "for episode in range(HM_EPISODES):\n",
        "    player = Blob()\n",
        "    food = Blob()\n",
        "    enemy = Blob()"
      ],
      "execution_count": 0,
      "outputs": []
    },
    {
      "cell_type": "code",
      "metadata": {
        "id": "ZSQ-4vTEugOv",
        "colab_type": "code",
        "colab": {}
      },
      "source": [
        "if episode % SHOW_EVERY == 0:\n",
        "        print(f\"on #{episode}, epsilon is {epsilon}\")\n",
        "        print(f\"{SHOW_EVERY} ep mean: {np.mean(episode_rewards[-SHOW_EVERY:])}\")\n",
        "        show = True\n",
        "else:\n",
        "        show = False\n",
        "\n",
        "episode_reward = 0\n",
        "for i in range(200):\n",
        "    obs = (player-food, player-enemy)\n",
        "    #print(obs)\n",
        "    if np.random.random() > epsilon:\n",
        "        # GET THE ACTION\n",
        "        action = np.argmax(q_table[obs])\n",
        "    else:\n",
        "        action = np.random.randint(0, 4)\n",
        "    # Take the action!\n",
        "    player.action(action)       "
      ],
      "execution_count": 0,
      "outputs": []
    },
    {
      "cell_type": "code",
      "metadata": {
        "id": "ndqPD2Y3xfAP",
        "colab_type": "code",
        "colab": {}
      },
      "source": [
        " #### MAYBE ###\n",
        "        #enemy.move()\n",
        "        #food.move()\n",
        "        ##############"
      ],
      "execution_count": 0,
      "outputs": []
    },
    {
      "cell_type": "code",
      "metadata": {
        "id": "jsEmnRtExf-J",
        "colab_type": "code",
        "colab": {}
      },
      "source": [
        "if player.x == enemy.x and player.y == enemy.y:\n",
        "            reward = -ENEMY_PENALTY\n",
        "elif player.x == food.x and player.y == food.y:\n",
        "    reward = FOOD_REWARD\n",
        "else:\n",
        "    reward = -MOVE_PENALTY"
      ],
      "execution_count": 0,
      "outputs": []
    },
    {
      "cell_type": "code",
      "metadata": {
        "id": "yteN01d_xpS4",
        "colab_type": "code",
        "colab": {}
      },
      "source": [
        "new_obs = (player-food, player-enemy)  # new observation\n",
        "max_future_q = np.max(q_table[new_obs])  # max Q value for this new obs\n",
        "current_q = q_table[obs][action]  # current Q for our chosen action"
      ],
      "execution_count": 0,
      "outputs": []
    },
    {
      "cell_type": "code",
      "metadata": {
        "id": "ZF5XH9l1xxyS",
        "colab_type": "code",
        "colab": {}
      },
      "source": [
        "if reward == FOOD_REWARD:\n",
        "            new_q = FOOD_REWARD\n",
        "else:\n",
        "    new_q = (1 - LEARNING_RATE) * current_q + LEARNING_RATE * (reward + DISCOUNT * max_future_q)"
      ],
      "execution_count": 0,
      "outputs": []
    },
    {
      "cell_type": "code",
      "metadata": {
        "id": "8u55Hdidx42O",
        "colab_type": "code",
        "colab": {
          "base_uri": "https://localhost:8080/",
          "height": 128
        },
        "outputId": "bd317c79-cf91-460a-870f-cb90b13d04f4"
      },
      "source": [
        " if show:\n",
        "            env = np.zeros((SIZE, SIZE, 3), dtype=np.uint8)  # starts an rbg of our size\n",
        "            env[food.x][food.y] = d[FOOD_N]  # sets the food location tile to green color\n",
        "            env[player.x][player.y] = d[PLAYER_N]  # sets the player tile to blue\n",
        "            env[enemy.x][enemy.y] = d[ENEMY_N]  # sets the enemy location to red\n",
        "            img = Image.fromarray(env, 'RGB')  # reading to rgb. Apparently. Even tho color definitions are bgr. ???\n",
        "            img = img.resize((300, 300))  # resizing so we can see our agent in all its glory.\n",
        "            cv2.imshow(\"image\", np.array(img))  # show it!\n",
        "            if reward == FOOD_REWARD or reward == -ENEMY_PENALTY:  # crummy code to hang at the end if we reach abrupt end for good reasons or not.\n",
        "                if cv2.waitKey(500) & 0xFF == ord('q'):\n",
        "                 break\n",
        "            else:\n",
        "                if cv2.waitKey(1) & 0xFF == ord('q'):\n",
        "                    break\n",
        "                    episode_reward += reward\n",
        " if reward == FOOD_REWARD or reward == -ENEMY_PENALTY:\n",
        "   break\n",
        "\n",
        "    \n",
        "        "
      ],
      "execution_count": 25,
      "outputs": [
        {
          "output_type": "error",
          "ename": "SyntaxError",
          "evalue": "ignored",
          "traceback": [
            "\u001b[0;36m  File \u001b[0;32m\"<ipython-input-25-69104190f832>\"\u001b[0;36m, line \u001b[0;32m11\u001b[0m\n\u001b[0;31m    break\u001b[0m\n\u001b[0m    ^\u001b[0m\n\u001b[0;31mSyntaxError\u001b[0m\u001b[0;31m:\u001b[0m 'break' outside loop\n"
          ]
        }
      ]
    },
    {
      "cell_type": "code",
      "metadata": {
        "id": "sr9dOHoL1y4G",
        "colab_type": "code",
        "colab": {
          "base_uri": "https://localhost:8080/",
          "height": 650
        },
        "outputId": "d67837fc-05d4-4f6c-a92c-a15edb535b0b"
      },
      "source": [
        "import numpy as np\n",
        "from PIL import Image\n",
        "import cv2\n",
        "import matplotlib.pyplot as plt\n",
        "import pickle\n",
        "from matplotlib import style\n",
        "import time\n",
        "\n",
        "style.use(\"ggplot\")\n",
        "\n",
        "SIZE = 10\n",
        "\n",
        "HM_EPISODES = 25000\n",
        "MOVE_PENALTY = 1\n",
        "ENEMY_PENALTY = 300\n",
        "FOOD_REWARD = 25\n",
        "epsilon = 0.9\n",
        "EPS_DECAY = 0.9998  # Every episode will be epsilon*EPS_DECAY\n",
        "SHOW_EVERY = 3000  # how often to play through env visually.\n",
        "\n",
        "start_q_table = None # None or Filename\n",
        "\n",
        "LEARNING_RATE = 0.1\n",
        "DISCOUNT = 0.95\n",
        "\n",
        "PLAYER_N = 1  # player key in dict\n",
        "FOOD_N = 2  # food key in dict\n",
        "ENEMY_N = 3  # enemy key in dict\n",
        "\n",
        "# the dict!\n",
        "d = {1: (255, 175, 0),\n",
        "     2: (0, 255, 0),\n",
        "     3: (0, 0, 255)}\n",
        "\n",
        "\n",
        "class Blob:\n",
        "    def __init__(self):\n",
        "        self.x = np.random.randint(0, SIZE)\n",
        "        self.y = np.random.randint(0, SIZE)\n",
        "\n",
        "    def __str__(self):\n",
        "        return f\"{self.x}, {self.y}\"\n",
        "\n",
        "    def __sub__(self, other):\n",
        "        return (self.x-other.x, self.y-other.y)\n",
        "\n",
        "    def action(self, choice):\n",
        "        '''\n",
        "        Gives us 4 total movement options. (0,1,2,3)\n",
        "        '''\n",
        "        if choice == 0:\n",
        "            self.move(x=1, y=1)\n",
        "        elif choice == 1:\n",
        "            self.move(x=-1, y=-1)\n",
        "        elif choice == 2:\n",
        "            self.move(x=-1, y=1)\n",
        "        elif choice == 3:\n",
        "            self.move(x=1, y=-1)\n",
        "\n",
        "    def move(self, x=False, y=False):\n",
        "\n",
        "        # If no value for x, move randomly\n",
        "        if not x:\n",
        "            self.x += np.random.randint(-1, 2)\n",
        "        else:\n",
        "            self.x += x\n",
        "\n",
        "        # If no value for y, move randomly\n",
        "        if not y:\n",
        "            self.y += np.random.randint(-1, 2)\n",
        "        else:\n",
        "            self.y += y\n",
        "\n",
        "\n",
        "        # If we are out of bounds, fix!\n",
        "        if self.x < 0:\n",
        "            self.x = 0\n",
        "        elif self.x > SIZE-1:\n",
        "            self.x = SIZE-1\n",
        "        if self.y < 0:\n",
        "            self.y = 0\n",
        "        elif self.y > SIZE-1:\n",
        "            self.y = SIZE-1\n",
        "\n",
        "\n",
        "if start_q_table is None:\n",
        "    # initialize the q-table#\n",
        "    q_table = {}\n",
        "    for i in range(-SIZE+1, SIZE):\n",
        "        for ii in range(-SIZE+1, SIZE):\n",
        "            for iii in range(-SIZE+1, SIZE):\n",
        "                    for iiii in range(-SIZE+1, SIZE):\n",
        "                        q_table[((i, ii), (iii, iiii))] = [np.random.uniform(-5, 0) for i in range(4)]\n",
        "\n",
        "else:\n",
        "    with open(start_q_table, \"rb\") as f:\n",
        "        q_table = pickle.load(f)\n",
        "\n",
        "\n",
        "# can look up from Q-table with: print(q_table[((-9, -2), (3, 9))]) for example\n",
        "\n",
        "episode_rewards = []\n",
        "\n",
        "for episode in range(HM_EPISODES):\n",
        "    player = Blob()\n",
        "    food = Blob()\n",
        "    enemy = Blob()\n",
        "    if episode % SHOW_EVERY == 0:\n",
        "        print(f\"on #{episode}, epsilon is {epsilon}\")\n",
        "        print(f\"{SHOW_EVERY} ep mean: {np.mean(episode_rewards[-SHOW_EVERY:])}\")\n",
        "        show = True\n",
        "    else:\n",
        "        show = False\n",
        "\n",
        "    episode_reward = 0\n",
        "    for i in range(200):\n",
        "        obs = (player-food, player-enemy)\n",
        "        #print(obs)\n",
        "        if np.random.random() > epsilon:\n",
        "            # GET THE ACTION\n",
        "            action = np.argmax(q_table[obs])\n",
        "        else:\n",
        "            action = np.random.randint(0, 4)\n",
        "        # Take the action!\n",
        "        player.action(action)\n",
        "\n",
        "        #### MAYBE ###\n",
        "        #enemy.move()\n",
        "        #food.move()\n",
        "        ##############\n",
        "\n",
        "        if player.x == enemy.x and player.y == enemy.y:\n",
        "            reward = -ENEMY_PENALTY\n",
        "        elif player.x == food.x and player.y == food.y:\n",
        "            reward = FOOD_REWARD\n",
        "        else:\n",
        "            reward = -MOVE_PENALTY\n",
        "        ## NOW WE KNOW THE REWARD, LET'S CALC YO\n",
        "        # first we need to obs immediately after the move.\n",
        "        new_obs = (player-food, player-enemy)\n",
        "        max_future_q = np.max(q_table[new_obs])\n",
        "        current_q = q_table[obs][action]\n",
        "\n",
        "        if reward == FOOD_REWARD:\n",
        "            new_q = FOOD_REWARD\n",
        "        else:\n",
        "            new_q = (1 - LEARNING_RATE) * current_q + LEARNING_RATE * (reward + DISCOUNT * max_future_q)\n",
        "        q_table[obs][action] = new_q\n",
        "\n",
        "        if show:\n",
        "            env = np.zeros((SIZE, SIZE, 3), dtype=np.uint8)  # starts an rbg of our size\n",
        "            env[food.x][food.y] = d[FOOD_N]  # sets the food location tile to green color\n",
        "            env[player.x][player.y] = d[PLAYER_N]  # sets the player tile to blue\n",
        "            env[enemy.x][enemy.y] = d[ENEMY_N]  # sets the enemy location to red\n",
        "            img = Image.fromarray(env, 'RGB')  # reading to rgb. Apparently. Even tho color definitions are bgr. ???\n",
        "            img = img.resize((300, 300))  # resizing so we can see our agent in all its glory.\n",
        "            #cv2.imshow(\"image\", np.array(img))  # show it!\n",
        "            if reward == FOOD_REWARD or reward == -ENEMY_PENALTY:  # crummy code to hang at the end if we reach abrupt end for good reasons or not.\n",
        "                if cv2.waitKey(500) & 0xFF == ord('q'):\n",
        "                    break\n",
        "            else:\n",
        "                if cv2.waitKey(1) & 0xFF == ord('q'):\n",
        "                    break\n",
        "\n",
        "        episode_reward += reward\n",
        "        if reward == FOOD_REWARD or reward == -ENEMY_PENALTY:\n",
        "            break\n",
        "\n",
        "    #print(episode_reward)\n",
        "    episode_rewards.append(episode_reward)\n",
        "    epsilon *= EPS_DECAY\n",
        "\n",
        "moving_avg = np.convolve(episode_rewards, np.ones((SHOW_EVERY,))/SHOW_EVERY, mode='valid')\n",
        "\n",
        "plt.plot([i for i in range(len(moving_avg))], moving_avg)\n",
        "plt.ylabel(f\"Reward {SHOW_EVERY}ma\")\n",
        "plt.xlabel(\"episode #\")\n",
        "plt.show()\n",
        "\n",
        "with open(f\"qtable-{int(time.time())}.pickle\", \"wb\") as f:\n",
        "    pickle.dump(q_table, f)"
      ],
      "execution_count": 27,
      "outputs": [
        {
          "output_type": "stream",
          "text": [
            "on #0, epsilon is 0.9\n",
            "3000 ep mean: nan\n"
          ],
          "name": "stdout"
        },
        {
          "output_type": "stream",
          "text": [
            "/usr/local/lib/python3.6/dist-packages/numpy/core/fromnumeric.py:3335: RuntimeWarning: Mean of empty slice.\n",
            "  out=out, **kwargs)\n",
            "/usr/local/lib/python3.6/dist-packages/numpy/core/_methods.py:161: RuntimeWarning: invalid value encountered in double_scalars\n",
            "  ret = ret.dtype.type(ret / rcount)\n"
          ],
          "name": "stderr"
        },
        {
          "output_type": "stream",
          "text": [
            "on #3000, epsilon is 0.49390083359356435\n",
            "3000 ep mean: -167.856\n",
            "on #6000, epsilon is 0.27104225936046566\n",
            "3000 ep mean: -111.64266666666667\n",
            "on #9000, epsilon is 0.14874221981913022\n",
            "3000 ep mean: -83.42866666666667\n",
            "on #12000, epsilon is 0.08162656262136181\n",
            "3000 ep mean: -67.138\n",
            "on #15000, epsilon is 0.044794919246742226\n",
            "3000 ep mean: -57.489666666666665\n",
            "on #18000, epsilon is 0.024582497729691496\n",
            "3000 ep mean: -47.718333333333334\n",
            "on #21000, epsilon is 0.01349035124500733\n",
            "3000 ep mean: -41.56166666666667\n",
            "on #24000, epsilon is 0.0074032174726434705\n",
            "3000 ep mean: -34.14033333333333\n"
          ],
          "name": "stdout"
        },
        {
          "output_type": "display_data",
          "data": {
            "image/png": "[encoded data removed]",
            "text/plain": [
              "<Figure size 432x288 with 1 Axes>"
            ]
          },
          "metadata": {
            "tags": []
          }
        }
      ]
    },
    {
      "cell_type": "code",
      "metadata": {
        "id": "IZZvMHka1UXQ",
        "colab_type": "code",
        "colab": {}
      },
      "source": [
        " print(episode_reward)\n",
        " episode_rewards.append(episode_reward)\n",
        " epsilon *= EPS_DECAY"
      ],
      "execution_count": 0,
      "outputs": []
    }
  ]
}